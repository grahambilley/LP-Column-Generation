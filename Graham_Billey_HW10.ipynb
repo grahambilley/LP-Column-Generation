{
 "cells": [
  {
   "cell_type": "markdown",
   "metadata": {},
   "source": [
    "## ISyE6669 HW10 - Graham Billey, Spring 2020"
   ]
  },
  {
   "cell_type": "markdown",
   "metadata": {},
   "source": [
    "#### 1. Column Generation\n",
    "\n",
    "> In this problem, we want to walk you through *one* iteration of the column generation in solving the cutting stock problem.  Consider the following formulation\n",
    ">\n",
    "> $$ \\min \\sum_{j=1}^{n} x_j $$\n",
    "> \n",
    "> $$ s.t.\\ \\sum_{j=1}^{N} A_j x_j\\ =\\ \\vec b $$\n",
    "> \n",
    "> $$ x_j\\ \\geq 0,\\ \\forall\\ j\\ =\\ 1,...,N. $$\n",
    "> \n",
    "> The problem has the following data. Customers need three types of smaller widths: $ w_1 = 5, w_2 = 12, w_3 = 16 $ with quantities $ b_1 = 150, b_2 = 100, b_3 = 80 $. The width of a big roll is $ W = 200 $.\n",
    "> \n",
    "> 1) Assume the column generation algorithm starts from the following initial patterns:\n",
    "> \n",
    "> $$ A_1 = \\begin{bmatrix} 40 \\\\ 0 \\\\ 0 \\end{bmatrix}, A_2 = \\begin{bmatrix} 0 \\\\ 16 \\\\ 0 \\end{bmatrix}, A_3 = \\begin{bmatrix} 0 \\\\ 0 \\\\ 12 \\end{bmatrix}. $$\n",
    "> \n",
    "> Write down the restricted master problem (RMP) using these patterns."
   ]
  },
  {
   "cell_type": "markdown",
   "metadata": {},
   "source": [
    "The RMP is, in general:\n",
    "\n",
    "$$ \\min \\sum_{j \\in I} x_j $$\n",
    "\n",
    "$$ s.t.\\ \\sum_{j \\in I} A_j x_j\\ =\\ \\vec b $$\n",
    "\n",
    "$$ x_j\\ \\geq 0,\\ \\forall\\ j\\ \\in I $$\n",
    "\n",
    "where...\n",
    "\n",
    "$$ I = [1,2,3], \\quad \\vec b = \\begin{bmatrix} 150 \\\\ 100 \\\\ 80 \\end{bmatrix} $$"
   ]
  },
  {
   "cell_type": "markdown",
   "metadata": {},
   "source": [
    "Explicitly, the RMP at the beginning stage of the cutting stock problem is:\n",
    "\n",
    "$$ \\min \\quad x_1 + x_2 + x_3 $$\n",
    "\n",
    "$$ s.t.\\ \\begin{bmatrix} 40 \\\\ 0 \\\\ 0 \\end{bmatrix} x_1 + \\begin{bmatrix} 0 \\\\ 16 \\\\ 0 \\end{bmatrix} x_2 + \\begin{bmatrix} 0 \\\\ 0 \\\\ 12 \\end{bmatrix} x_3 =\\ \\begin{bmatrix} 150 \\\\ 100 \\\\ 80 \\end{bmatrix} $$\n",
    "\n",
    "$$ x_1, x_2, x_3\\ \\geq 0 $$"
   ]
  },
  {
   "cell_type": "markdown",
   "metadata": {},
   "source": [
    "> 2) Solve RMP in CVX (Python or Matlab).  Write down the optimal solution, the optimal basis $ B $, and its inverse $ B^{−1} $.  Find the optimal dual solution $ \\hat{y} \\geq c_B^{\\top} B^{−1} $.  To take the inverse of $ B $, you can use your favorite calculator or computer program.  In this iteration, you could solve this LP by hand.  But we ask you to set up the code in CVX and solve it using CVX. This code will be used in later iterations."
   ]
  },
  {
   "cell_type": "code",
   "execution_count": 1,
   "metadata": {},
   "outputs": [],
   "source": [
    "import numpy as np\n",
    "import cvxpy as cp"
   ]
  },
  {
   "cell_type": "code",
   "execution_count": 24,
   "metadata": {},
   "outputs": [
    {
     "name": "stdout",
     "output_type": "stream",
     "text": [
      "The optimal value is: 16.67\n",
      "The optimal x is: [3.75 6.25 6.67] \n",
      "\n",
      "----- question1_RMP_step1 ----- \n",
      "\n",
      "The Basis is : \n",
      " [[40  0  0]\n",
      " [ 0 16  0]\n",
      " [ 0  0 12]] \n",
      "\n",
      "The B_inv is : \n",
      " [[0.025 0.    0.   ]\n",
      " [0.    0.062 0.   ]\n",
      " [0.    0.    0.083]] \n",
      "\n",
      "The optimal dual solution is : \n",
      " [0.025 0.062 0.083] \n",
      "\n"
     ]
    }
   ],
   "source": [
    "# question1_RMP_step1\n",
    "\n",
    "x = cp.Variable(3)\n",
    "\n",
    "A = np.array([[40, 0,  0],\n",
    "              [0, 16, 0],\n",
    "              [0, 0, 12]])\n",
    "\n",
    "b = np.array([150, 100, 80])\n",
    "\n",
    "#Objective function\n",
    "obj = cp.Minimize(sum(x))\n",
    "prob = cp.Problem(obj, [A @ x >= b,\n",
    "                        x >= 0])\n",
    "prob.solve(solver='GLPK_MI')\n",
    "\n",
    "print(f'The optimal value is: {round(prob.value,2)}')\n",
    "print(f'The optimal x is: {np.round(x.value,2)} \\n')\n",
    "\n",
    "###### Print answers to questions below\n",
    "print('----- question1_RMP_step1 ----- \\n')\n",
    "\n",
    "print(f'The Basis is : \\n {A} \\n')\n",
    "\n",
    "B_inv = np.linalg.inv(A) \n",
    "print(f'The B_inv is : \\n {np.round(B_inv,3)} \\n')\n",
    "\n",
    "y_hat = np.ones(3).T@B_inv\n",
    "print(f'The optimal dual solution is : \\n {np.round(y_hat,3)} \\n')"
   ]
  },
  {
   "cell_type": "markdown",
   "metadata": {},
   "source": [
    "> 3) Write down  the  pricing  problem, i.e. the knapsack problem using the above data and the optimal dual solution you found."
   ]
  },
  {
   "cell_type": "markdown",
   "metadata": {},
   "source": [
    "The knapsack problem is, in general:\n",
    "\n",
    "$$ \\max \\sum_{j} a_j $$\n",
    "\n",
    "$$ s.t. \\sum_{j} w_j a_j \\leq W $$\n",
    "\n",
    "$$ a_j \\geq 0,\\ \\forall j $$"
   ]
  },
  {
   "cell_type": "markdown",
   "metadata": {},
   "source": [
    "Explicitly, the knapsack problem at this stage of the cutting stock problem is:\n",
    "\n",
    "$$ \\max a_1 + a_2 + a_3 $$\n",
    "\n",
    "$$ s.t. 5 a_1 + 12 a_2 + 16 a_3 \\leq 200 $$\n",
    "\n",
    "$$ a_1, a_2, a_3 \\geq 0 $$"
   ]
  },
  {
   "cell_type": "markdown",
   "metadata": {},
   "source": [
    "> 4) Solve  the  pricing  problem  in  CVX.  Should  we  terminate  the  column  generation  algorithm at this point?  Explain.  If the column generation should continue, what is the new pattern generated by the pricing problem?"
   ]
  },
  {
   "cell_type": "code",
   "execution_count": 25,
   "metadata": {
    "scrolled": true
   },
   "outputs": [
    {
     "name": "stdout",
     "output_type": "stream",
     "text": [
      "The optimal value is: 1.042\n",
      "The optimal a is: [ 0.  2. 11.] \n",
      "\n",
      "----- question1_Pricing_step1 ----- \n",
      "\n",
      "The minimum reduced cost is : \n",
      " -0.042 \n",
      "\n",
      "Since the minimum reduced cost is < 0, the current solution is not optimal. \n",
      "\n",
      "The new pattern generated by the pricing problem is [ 0.  2. 11.]^T. \n",
      "\n"
     ]
    }
   ],
   "source": [
    "# question1_Pricing_step1\n",
    "\n",
    "a = cp.Variable(3, integer=True)\n",
    "w = np.array([5, 12, 16])\n",
    "W = 200\n",
    "\n",
    "#Objective function\n",
    "obj = cp.Maximize(y_hat@a)\n",
    "prob = cp.Problem(obj, [w@a <= W,\n",
    "                        a>=0])\n",
    "prob.solve(verbose=False, solver='GLPK_MI')\n",
    "\n",
    "print(f'The optimal value is: {np.round(prob.value,3)}')\n",
    "print(f'The optimal a is: {np.round(a.value)} \\n')\n",
    "\n",
    "###### Print answers to questions below\n",
    "print('----- question1_Pricing_step1 ----- \\n')\n",
    "\n",
    "mrc = 1-prob.value\n",
    "print(f'The minimum reduced cost is : \\n {np.round(mrc,3)} \\n')\n",
    "\n",
    "if mrc < 0:\n",
    "    print('Since the minimum reduced cost is < 0, the current solution is not optimal. \\n')\n",
    "    print(f'The new pattern generated by the pricing problem is {np.round(a.value)}^T. \\n')\n",
    "else:\n",
    "    print('The current solution is optimal! We are done! Woo Hoo :)')\n",
    "    "
   ]
  },
  {
   "cell_type": "markdown",
   "metadata": {},
   "source": [
    "> 5) If the column generation should continue, then augment (RMP) with the new column and solve it in CVX again.  You can easily modify your CVX code by incorporating the new column. Write down the optimal solution, the optimal basis $ B $, and the inverse $ B^{−1} $. Compute the dual variable. Then solve the pricing problem again by modifying the date in your code. Should you terminate the column generation at this iteration?  Explain.  If the column generation should continue, do the same for all the following iterations until the column generation terminates."
   ]
  },
  {
   "cell_type": "code",
   "execution_count": 27,
   "metadata": {
    "scrolled": true
   },
   "outputs": [
    {
     "name": "stdout",
     "output_type": "stream",
     "text": [
      "The optimal value is: 16.36\n",
      "The optimal x is: [3.75 5.34 0.   7.27] \n",
      "\n",
      "----- question1_RMP_step2 ----- \n",
      "\n",
      "The Basis is : \n",
      " [[40  0  0]\n",
      " [ 0 16  2]\n",
      " [ 0  0 11]] \n",
      "\n",
      "The B_inv is : \n",
      " [[ 0.025  0.     0.   ]\n",
      " [ 0.     0.062 -0.011]\n",
      " [ 0.     0.     0.091]] \n",
      "\n",
      "The optimal dual solution is : \n",
      " [0.025 0.062 0.08 ] \n",
      "\n"
     ]
    }
   ],
   "source": [
    "# question1_RMP_step2\n",
    "\n",
    "x = cp.Variable(4)\n",
    "\n",
    "A = np.array([[40,  0,  0,  0],\n",
    "              [ 0, 16,  0, 2],\n",
    "              [ 0,  0, 12,  11]])\n",
    "\n",
    "b = np.array([150, 100, 80])\n",
    "\n",
    "#Objective function\n",
    "obj = cp.Minimize(sum(x))\n",
    "prob = cp.Problem(obj, [A @ x == b,\n",
    "                        x >= 0])\n",
    "prob.solve(solver='GLPK_MI')\n",
    "\n",
    "print(f'The optimal value is: {round(prob.value,2)}')\n",
    "print(f'The optimal x is: {np.round(x.value,2)} \\n')\n",
    "\n",
    "###### Print answers to questions below\n",
    "print('----- question1_RMP_step2 ----- \\n')\n",
    "\n",
    "B = A[:,[0,1,3]]\n",
    "print(f'The Basis is : \\n {B} \\n')\n",
    "\n",
    "B_inv = np.linalg.inv(B) \n",
    "print(f'The B_inv is : \\n {np.round(B_inv,3)} \\n')\n",
    "\n",
    "y_hat = np.ones(3).T@B_inv\n",
    "print(f'The optimal dual solution is : \\n {np.round(y_hat,3)} \\n')"
   ]
  },
  {
   "cell_type": "code",
   "execution_count": 28,
   "metadata": {
    "scrolled": false
   },
   "outputs": [
    {
     "name": "stdout",
     "output_type": "stream",
     "text": [
      "The optimal value is: 1.038\n",
      "The optimal a is: [ 4. 15.  0.] \n",
      "\n",
      "----- question1_Pricing_step2 ----- \n",
      "\n",
      "The minimum reduced cost is : \n",
      " -0.038 \n",
      "\n",
      "Since the minimum reduced cost is < 0, the current solution is not optimal. \n",
      "\n",
      "The new pattern generated by the pricing problem is [ 4. 15.  0.]^T. \n",
      "\n"
     ]
    }
   ],
   "source": [
    "# question1_Pricing_step2\n",
    "\n",
    "a = cp.Variable(3, integer=True)\n",
    "w = np.array([5, 12, 16])\n",
    "W = 200\n",
    "\n",
    "#Objective function\n",
    "obj = cp.Maximize(y_hat@a)\n",
    "prob = cp.Problem(obj, [w@a <= W,\n",
    "                        a>=0])\n",
    "prob.solve(verbose=False, solver='GLPK_MI')\n",
    "\n",
    "print(f'The optimal value is: {np.round(prob.value,3)}')\n",
    "print(f'The optimal a is: {np.round(a.value)} \\n')\n",
    "\n",
    "###### Print answers to questions below\n",
    "print('----- question1_Pricing_step2 ----- \\n')\n",
    "\n",
    "mrc = 1-prob.value\n",
    "print(f'The minimum reduced cost is : \\n {np.round(mrc,3)} \\n')\n",
    "\n",
    "if mrc < 0:\n",
    "    print('Since the minimum reduced cost is < 0, the current solution is not optimal. \\n')\n",
    "    print(f'The new pattern generated by the pricing problem is {np.round(a.value)}^T. \\n')\n",
    "else:\n",
    "    print('The current solution is optimal! We are done! Woo Hoo :)')"
   ]
  },
  {
   "cell_type": "code",
   "execution_count": 30,
   "metadata": {},
   "outputs": [
    {
     "name": "stdout",
     "output_type": "stream",
     "text": [
      "The optimal value is: 16.15\n",
      "The optimal x is: [3.18 0.   0.   7.27 5.7 ] \n",
      "\n",
      "----- question1_RMP_step3 ----- \n",
      "\n",
      "The Basis is : \n",
      " [[40  0  4]\n",
      " [ 0  2 15]\n",
      " [ 0 11  0]] \n",
      "\n",
      "The B_inv is : \n",
      " [[ 0.025 -0.007  0.001]\n",
      " [ 0.     0.     0.091]\n",
      " [ 0.     0.067 -0.012]] \n",
      "\n",
      "The optimal dual solution is : \n",
      " [0.025 0.06  0.08 ] \n",
      "\n"
     ]
    }
   ],
   "source": [
    "# question1_RMP_step3\n",
    "\n",
    "x = cp.Variable(5)\n",
    "\n",
    "A = np.array([[40,  0,  0,  0,  4],\n",
    "              [ 0, 16,  0,  2, 15],\n",
    "              [ 0,  0, 12, 11,  0]])\n",
    "\n",
    "b = np.array([150, 100, 80])\n",
    "\n",
    "#Objective function\n",
    "obj = cp.Minimize(sum(x))\n",
    "prob = cp.Problem(obj, [A @ x == b,\n",
    "                        x >= 0])\n",
    "prob.solve()\n",
    "\n",
    "print(f'The optimal value is: {round(prob.value,2)}')\n",
    "print(f'The optimal x is: {np.round(x.value,2)} \\n')\n",
    "\n",
    "###### Print answers to questions below\n",
    "print('----- question1_RMP_step3 ----- \\n')\n",
    "\n",
    "B = A[:,[0,3,4]]\n",
    "print(f'The Basis is : \\n {B} \\n')\n",
    "\n",
    "B_inv = np.linalg.inv(B) \n",
    "print(f'The B_inv is : \\n {np.round(B_inv,3)} \\n')\n",
    "\n",
    "y_hat = np.ones(3).T@B_inv\n",
    "print(f'The optimal dual solution is : \\n {np.round(y_hat,3)} \\n')\n"
   ]
  },
  {
   "cell_type": "code",
   "execution_count": 34,
   "metadata": {},
   "outputs": [
    {
     "name": "stdout",
     "output_type": "stream",
     "text": [
      "The optimal value is: 1.0\n",
      "The optimal a is: [40.  0.  0.] \n",
      "\n",
      "----- question1_Pricing_step3 ----- \n",
      "\n",
      "The minimum reduced cost is : \n",
      " 0.0 \n",
      "\n",
      "The current solution is optimal! We are done! Woo Hoo :)\n"
     ]
    }
   ],
   "source": [
    "# question1_Pricing_step3\n",
    "\n",
    "a = cp.Variable(3, integer=True)\n",
    "w = np.array([5, 12, 16])\n",
    "W = 200\n",
    "\n",
    "#Objective function\n",
    "obj = cp.Maximize(y_hat@a)\n",
    "prob = cp.Problem(obj, [w@a <= W,\n",
    "                        a>=0])\n",
    "prob.solve(verbose=False, solver='GLPK_MI')\n",
    "\n",
    "print(f'The optimal value is: {np.round(prob.value,3)}')\n",
    "print(f'The optimal a is: {np.round(a.value)} \\n')\n",
    "\n",
    "###### Print answers to questions below\n",
    "print('----- question1_Pricing_step3 ----- \\n')\n",
    "\n",
    "mrc = 1-prob.value\n",
    "print(f'The minimum reduced cost is : \\n {np.round(mrc,3)} \\n')\n",
    "\n",
    "if mrc < 0:\n",
    "    print('Since the minimum reduced cost is < 0, the current solution is not optimal. \\n')\n",
    "    print(f'The new pattern generated by the pricing problem is {np.round(a.value)}^T. \\n')\n",
    "else:\n",
    "    print('The current solution is optimal! We are done! Woo Hoo :)')"
   ]
  },
  {
   "cell_type": "markdown",
   "metadata": {},
   "source": [
    "> 6) Write down the final optimal solution, the optimal basis, and the optimal objective value."
   ]
  },
  {
   "cell_type": "code",
   "execution_count": 37,
   "metadata": {
    "scrolled": true
   },
   "outputs": [
    {
     "name": "stdout",
     "output_type": "stream",
     "text": [
      "The optimal solution is: [3.18 0.   0.   7.27 5.7 ] \n",
      "\n",
      "The Basis is : \n",
      " [[40  0  4]\n",
      " [ 0  2 15]\n",
      " [ 0 11  0]] \n",
      "\n",
      "The optimal value is: 16.15\n"
     ]
    }
   ],
   "source": [
    "print(f'The optimal solution is: {np.round(x.value,2)} \\n')\n",
    "\n",
    "print(f'The Basis is : \\n {B} \\n')\n",
    "\n",
    "print(f'The optimal value is: 16.15')"
   ]
  },
  {
   "cell_type": "markdown",
   "metadata": {},
   "source": [
    "We will cut `3.18` patterns of $ \\begin{bmatrix} 40 \\\\ 0 \\\\ 0 \\end{bmatrix} $, \n",
    "            `7.27` patterns of $ \\begin{bmatrix} 0 \\\\ 2 \\\\ 15 \\end{bmatrix} $, and \n",
    "            `5.7`  patterns of $ \\begin{bmatrix} 4 \\\\ 15 \\\\ 0 \\end{bmatrix} $.\n",
    "            \n",
    "The total number of big rolls cut is 16.15, but in reality we cannot combine fractional rolls into one.\n",
    "\n",
    "Therefore, the actual number of big rolls cut is `4 + 8 + 6 = 18` rolls."
   ]
  },
  {
   "cell_type": "markdown",
   "metadata": {},
   "source": [
    "### YOUR WORK HERE"
   ]
  },
  {
   "cell_type": "markdown",
   "metadata": {},
   "source": [
    "> 7. For this problem, you need to submit all your codes for all the steps separately.  Name them as question1_RMP_step1, question1_Pricing_step1, question1_RMP_step2, and so on.\n",
    "> \n",
    "> NOTE: Per Will Lassiter (TA), keeping all code chunks in this workbook is fine: https://piazza.com/class/k3pzx6pzx9h6t5?cid=253_f1"
   ]
  }
 ],
 "metadata": {
  "file_extension": ".py",
  "kernelspec": {
   "display_name": "Python 3",
   "language": "python",
   "name": "python3"
  },
  "language_info": {
   "codemirror_mode": {
    "name": "ipython",
    "version": 3
   },
   "file_extension": ".py",
   "mimetype": "text/x-python",
   "name": "python",
   "nbconvert_exporter": "python",
   "pygments_lexer": "ipython3",
   "version": "3.7.4"
  },
  "mimetype": "text/x-python",
  "name": "python",
  "npconvert_exporter": "python",
  "pygments_lexer": "ipython3",
  "version": 3
 },
 "nbformat": 4,
 "nbformat_minor": 2
}
